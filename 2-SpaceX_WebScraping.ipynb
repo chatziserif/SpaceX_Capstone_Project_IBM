{
 "cells": [
  {
   "cell_type": "markdown",
   "id": "a17c6fd5-e61e-4d68-b29e-9d1a518a353b",
   "metadata": {},
   "source": [
    "# Space X Falcon 9 First Stage Landing Prediction\n",
    "### Web scraping Falcon 9 and Falcon Heavy Launches Records from Wikipedia"
   ]
  },
  {
   "cell_type": "markdown",
   "id": "9fd97798-11e3-4f0e-91a9-e89f430a6bea",
   "metadata": {},
   "source": [
    "In this lab, you will be performing web scraping to collect Falcon 9 historical launch records from a Wikipedia page titled `List of Falcon 9 and Falcon Heavy launches`\n",
    "\n",
    "https://en.wikipedia.org/wiki/List_of_Falcon_9_and_Falcon_Heavy_launches\n"
   ]
  },
  {
   "cell_type": "markdown",
   "id": "495c3108-ff80-490b-aec9-f2e4dc3ac0bf",
   "metadata": {},
   "source": [
    "![](https://cf-courses-data.s3.us.cloud-object-storage.appdomain.cloud/IBM-DS0321EN-SkillsNetwork/labs/module_1_L2/images/Falcon9_rocket_family.svg)"
   ]
  },
  {
   "cell_type": "markdown",
   "id": "93adc8e8-9454-415d-b44d-c92883a27d85",
   "metadata": {},
   "source": [
    "Falcon 9 first stage will land successfully"
   ]
  },
  {
   "cell_type": "markdown",
   "id": "883b57cf-b4c0-40fd-9149-9fd9d88e6b1b",
   "metadata": {},
   "source": [
    "![](https://cf-courses-data.s3.us.cloud-object-storage.appdomain.cloud/IBMDeveloperSkillsNetwork-DS0701EN-SkillsNetwork/api/Images/landing_1.gif)\n"
   ]
  },
  {
   "cell_type": "markdown",
   "id": "7cd15bb0-2bb6-401b-9ef3-209a0e0cbd4d",
   "metadata": {},
   "source": [
    "Several examples of an unsuccessful landing are shown here:"
   ]
  },
  {
   "cell_type": "markdown",
   "id": "8bea0846-58cc-4d51-bf3b-5a0f50716023",
   "metadata": {},
   "source": [
    "![](https://cf-courses-data.s3.us.cloud-object-storage.appdomain.cloud/IBMDeveloperSkillsNetwork-DS0701EN-SkillsNetwork/api/Images/crash.gif)\n"
   ]
  },
  {
   "cell_type": "markdown",
   "id": "87be8f6e-1797-4330-aa5f-f7efd2e396c3",
   "metadata": {},
   "source": [
    "More specifically, the launch records are stored in a HTML table shown below:"
   ]
  },
  {
   "cell_type": "markdown",
   "id": "1b794906-4f81-484d-9b6b-9c43c020fa2d",
   "metadata": {},
   "source": [
    "![](https://cf-courses-data.s3.us.cloud-object-storage.appdomain.cloud/IBM-DS0321EN-SkillsNetwork/labs/module_1_L2/images/falcon9-launches-wiki.png)\n"
   ]
  },
  {
   "cell_type": "markdown",
   "id": "0442d849-8464-49ad-b35b-999bf042cffe",
   "metadata": {},
   "source": [
    "  ## Objectives\n",
    "Web scrap Falcon 9 launch records with `BeautifulSoup`: \n",
    "- Extract a Falcon 9 launch records HTML table from Wikipedia\n",
    "- Parse the table and convert it into a Pandas data frame"
   ]
  },
  {
   "cell_type": "markdown",
   "id": "0b8cd023-94b2-418a-b517-0fb03932fcf7",
   "metadata": {},
   "source": [
    "First let's import required packages for this lab"
   ]
  },
  {
   "cell_type": "code",
   "execution_count": 24,
   "id": "256031fc-355b-477b-aef6-6d78ce85f554",
   "metadata": {
    "tags": []
   },
   "outputs": [
    {
     "name": "stdout",
     "output_type": "stream",
     "text": [
      "Requirement already satisfied: beautifulsoup4 in /home/jupyterlab/conda/envs/python/lib/python3.7/site-packages (4.11.1)\n",
      "Requirement already satisfied: soupsieve>1.2 in /home/jupyterlab/conda/envs/python/lib/python3.7/site-packages (from beautifulsoup4) (2.3.2.post1)\n",
      "Requirement already satisfied: requests in /home/jupyterlab/conda/envs/python/lib/python3.7/site-packages (2.29.0)\n",
      "Requirement already satisfied: charset-normalizer<4,>=2 in /home/jupyterlab/conda/envs/python/lib/python3.7/site-packages (from requests) (3.1.0)\n",
      "Requirement already satisfied: idna<4,>=2.5 in /home/jupyterlab/conda/envs/python/lib/python3.7/site-packages (from requests) (3.4)\n",
      "Requirement already satisfied: urllib3<1.27,>=1.21.1 in /home/jupyterlab/conda/envs/python/lib/python3.7/site-packages (from requests) (1.26.15)\n",
      "Requirement already satisfied: certifi>=2017.4.17 in /home/jupyterlab/conda/envs/python/lib/python3.7/site-packages (from requests) (2023.5.7)\n"
     ]
    }
   ],
   "source": [
    "!pip3 install beautifulsoup4\n",
    "!pip3 install requests"
   ]
  },
  {
   "cell_type": "code",
   "execution_count": 1,
   "id": "c93cf02f-8072-4ffc-b580-7074b66c081f",
   "metadata": {
    "tags": []
   },
   "outputs": [],
   "source": [
    "import sys\n",
    "\n",
    "import requests\n",
    "from bs4 import BeautifulSoup\n",
    "import re\n",
    "import unicodedata\n",
    "import pandas as pd"
   ]
  },
  {
   "cell_type": "markdown",
   "id": "a4ee4176-e589-47a9-9800-8d850d5b3822",
   "metadata": {},
   "source": [
    "We will provide some helper functions for you to process web scraped HTML table"
   ]
  },
  {
   "cell_type": "code",
   "execution_count": 2,
   "id": "0f50956c-a164-4488-a92f-e3ad5512a7d8",
   "metadata": {
    "tags": []
   },
   "outputs": [],
   "source": [
    "def date_time(table_cells):\n",
    "    \"\"\"\n",
    "    This function returns the data and time from the HTML  table cell\n",
    "    Input: the  element of a table data cell extracts extra row\n",
    "    \"\"\"\n",
    "    return [data_time.strip() for data_time in list(table_cells.strings)][0:2]\n",
    "\n",
    "def booster_version(table_cells):\n",
    "    \"\"\"\n",
    "    This function returns the booster version from the HTML  table cell \n",
    "    Input: the  element of a table data cell extracts extra row\n",
    "    \"\"\"\n",
    "    out=''.join([booster_version for i,booster_version in enumerate( table_cells.strings) if i%2==0][0:-1])\n",
    "    return out\n",
    "\n",
    "def landing_status(table_cells):\n",
    "    \"\"\"\n",
    "    This function returns the landing status from the HTML table cell \n",
    "    Input: the  element of a table data cell extracts extra row\n",
    "    \"\"\"\n",
    "    out=[i for i in table_cells.strings][0]\n",
    "    return out\n",
    "\n",
    "\n",
    "def get_mass(table_cells):\n",
    "    mass=unicodedata.normalize(\"NFKD\", table_cells.text).strip()\n",
    "    if mass:\n",
    "        mass.find(\"kg\")\n",
    "        new_mass=mass[0:mass.find(\"kg\")+2]\n",
    "    else:\n",
    "        new_mass=0\n",
    "    return new_mass\n",
    "\n",
    "\n",
    "def extract_column_from_header(row):\n",
    "    \"\"\"\n",
    "    This function returns the landing status from the HTML table cell \n",
    "    Input: the  element of a table data cell extracts extra row\n",
    "    \"\"\"\n",
    "    if (row.br):\n",
    "        row.br.extract()\n",
    "    if row.a:\n",
    "        row.a.extract()\n",
    "    if row.sup:\n",
    "        row.sup.extract()\n",
    "        \n",
    "    colunm_name = ' '.join(row.contents)\n",
    "    \n",
    "    # Filter the digit and empty names\n",
    "    if not(colunm_name.strip().isdigit()):\n",
    "        colunm_name = colunm_name.strip()\n",
    "        return colunm_name "
   ]
  },
  {
   "cell_type": "markdown",
   "id": "62f58138-40b3-419d-adef-fc072b3afb8a",
   "metadata": {},
   "source": [
    "To keep the lab tasks consistent, you will be asked to scrape the data from a snapshot of the  `List of Falcon 9 and Falcon Heavy launches` Wikipage updated on\n",
    "`9th June 2021`\n"
   ]
  },
  {
   "cell_type": "code",
   "execution_count": 3,
   "id": "f624d128-2cca-4238-a4f9-0db3c69bd071",
   "metadata": {
    "tags": []
   },
   "outputs": [],
   "source": [
    "static_url = \"https://en.wikipedia.org/w/index.php?title=List_of_Falcon_9_and_Falcon_Heavy_launches&oldid=1027686922\""
   ]
  },
  {
   "cell_type": "markdown",
   "id": "0217caa3-8de1-4809-8a91-be6203d3ed20",
   "metadata": {},
   "source": [
    "Next, request the HTML page from the above URL and get a `response` object"
   ]
  },
  {
   "cell_type": "markdown",
   "id": "40dbd6cc-1edb-4a1a-b1fa-9f33796587aa",
   "metadata": {},
   "source": [
    "### TASK 1: Request the Falcon9 Launch Wiki page from its URL\n",
    "First, let's perform an HTTP GET method to request the Falcon9 Launch HTML page, as an HTTP response."
   ]
  },
  {
   "cell_type": "code",
   "execution_count": 4,
   "id": "33350bd5-f4bd-407b-acb2-f8c94fb665e9",
   "metadata": {
    "tags": []
   },
   "outputs": [],
   "source": [
    "data = requests.get(static_url).text"
   ]
  },
  {
   "cell_type": "markdown",
   "id": "c004fa71-55fc-437d-8a9b-ee3c3a91e7e3",
   "metadata": {},
   "source": [
    "Write a `BeautifulSoup` object from the HTML `response`"
   ]
  },
  {
   "cell_type": "code",
   "execution_count": 6,
   "id": "65e0c428-5529-4f90-b111-2f872ae14861",
   "metadata": {
    "tags": []
   },
   "outputs": [],
   "source": [
    "soup = BeautifulSoup(data)"
   ]
  },
  {
   "cell_type": "code",
   "execution_count": 7,
   "id": "4f06e839-a812-4c2d-9245-676510405f84",
   "metadata": {
    "tags": []
   },
   "outputs": [
    {
     "data": {
      "text/plain": [
       "<title>List of Falcon 9 and Falcon Heavy launches - Wikipedia</title>"
      ]
     },
     "execution_count": 7,
     "metadata": {},
     "output_type": "execute_result"
    }
   ],
   "source": [
    "soup.title"
   ]
  },
  {
   "cell_type": "markdown",
   "id": "d7e42d7b-b95b-4a20-8b99-85ba00612c7f",
   "metadata": {},
   "source": [
    "### TASK 2: Extract all column/variable names from the HTML table header\n",
    "Next, we want to collect all relevant column names from the HTML table header"
   ]
  },
  {
   "cell_type": "code",
   "execution_count": 8,
   "id": "750f27df-b3b7-4867-8525-c6f31014c121",
   "metadata": {
    "tags": []
   },
   "outputs": [],
   "source": [
    "html_tables = soup.find_all('table')"
   ]
  },
  {
   "cell_type": "markdown",
   "id": "d6cbdb0a-f057-488d-9fdb-7a40ff67c645",
   "metadata": {},
   "source": [
    "Starting from the third table is our target table contains the actual launch records."
   ]
  },
  {
   "cell_type": "code",
   "execution_count": 9,
   "id": "be3014da-376d-40b8-8f36-e369ab7401cf",
   "metadata": {
    "collapsed": true,
    "jupyter": {
     "outputs_hidden": true
    },
    "tags": []
   },
   "outputs": [
    {
     "name": "stdout",
     "output_type": "stream",
     "text": [
      "<table class=\"wikitable plainrowheaders collapsible\" style=\"width: 100%;\">\n",
      "<tbody><tr>\n",
      "<th scope=\"col\">Flight No.\n",
      "</th>\n",
      "<th scope=\"col\">Date and<br/>time (<a href=\"/wiki/Coordinated_Universal_Time\" title=\"Coordinated Universal Time\">UTC</a>)\n",
      "</th>\n",
      "<th scope=\"col\"><a href=\"/wiki/List_of_Falcon_9_first-stage_boosters\" title=\"List of Falcon 9 first-stage boosters\">Version,<br/>Booster</a> <sup class=\"reference\" id=\"cite_ref-booster_11-0\"><a href=\"#cite_note-booster-11\">[b]</a></sup>\n",
      "</th>\n",
      "<th scope=\"col\">Launch site\n",
      "</th>\n",
      "<th scope=\"col\">Payload<sup class=\"reference\" id=\"cite_ref-Dragon_12-0\"><a href=\"#cite_note-Dragon-12\">[c]</a></sup>\n",
      "</th>\n",
      "<th scope=\"col\">Payload mass\n",
      "</th>\n",
      "<th scope=\"col\">Orbit\n",
      "</th>\n",
      "<th scope=\"col\">Customer\n",
      "</th>\n",
      "<th scope=\"col\">Launch<br/>outcome\n",
      "</th>\n",
      "<th scope=\"col\"><a href=\"/wiki/Falcon_9_first-stage_landing_tests\" title=\"Falcon 9 first-stage landing tests\">Booster<br/>landing</a>\n",
      "</th></tr>\n",
      "<tr>\n",
      "<th rowspan=\"2\" scope=\"row\" style=\"text-align:center;\">1\n",
      "</th>\n",
      "<td>4 June 2010,<br/>18:45\n",
      "</td>\n",
      "<td><a href=\"/wiki/Falcon_9_v1.0\" title=\"Falcon 9 v1.0\">F9 v1.0</a><sup class=\"reference\" id=\"cite_ref-MuskMay2012_13-0\"><a href=\"#cite_note-MuskMay2012-13\">[7]</a></sup><br/>B0003.1<sup class=\"reference\" id=\"cite_ref-block_numbers_14-0\"><a href=\"#cite_note-block_numbers-14\">[8]</a></sup>\n",
      "</td>\n",
      "<td><a href=\"/wiki/Cape_Canaveral_Space_Force_Station\" title=\"Cape Canaveral Space Force Station\">CCAFS</a>,<br/><a href=\"/wiki/Cape_Canaveral_Space_Launch_Complex_40\" title=\"Cape Canaveral Space Launch Complex 40\">SLC-40</a>\n",
      "</td>\n",
      "<td><a href=\"/wiki/Dragon_Spacecraft_Qualification_Unit\" title=\"Dragon Spacecraft Qualification Unit\">Dragon Spacecraft Qualification Unit</a>\n",
      "</td>\n",
      "<td>\n",
      "</td>\n",
      "<td><a href=\"/wiki/Low_Earth_orbit\" title=\"Low Earth orbit\">LEO</a>\n",
      "</td>\n",
      "<td><a href=\"/wiki/SpaceX\" title=\"SpaceX\">SpaceX</a>\n",
      "</td>\n",
      "<td class=\"table-success\" style=\"background: #9EFF9E; vertical-align: middle; text-align: center;\">Success\n",
      "</td>\n",
      "<td class=\"table-failure\" style=\"background: #FFC7C7; vertical-align: middle; text-align: center;\">Failure<sup class=\"reference\" id=\"cite_ref-ns20110930_15-0\"><a href=\"#cite_note-ns20110930-15\">[9]</a></sup><sup class=\"reference\" id=\"cite_ref-16\"><a href=\"#cite_note-16\">[10]</a></sup><br/><small>(parachute)</small>\n",
      "</td></tr>\n",
      "<tr>\n",
      "<td colspan=\"9\">First flight of Falcon 9 v1.0.<sup class=\"reference\" id=\"cite_ref-sfn20100604_17-0\"><a href=\"#cite_note-sfn20100604-17\">[11]</a></sup> Used a boilerplate version of Dragon capsule which was not designed to separate from the second stage.<small>(<a href=\"#First_flight_of_Falcon_9\">more details below</a>)</small> Attempted to recover the first stage by parachuting it into the ocean, but it burned up on reentry, before the parachutes even deployed.<sup class=\"reference\" id=\"cite_ref-parachute_18-0\"><a href=\"#cite_note-parachute-18\">[12]</a></sup>\n",
      "</td></tr>\n",
      "<tr>\n",
      "<th rowspan=\"2\" scope=\"row\" style=\"text-align:center;\">2\n",
      "</th>\n",
      "<td>8 December 2010,<br/>15:43<sup class=\"reference\" id=\"cite_ref-spaceflightnow_Clark_Launch_Report_19-0\"><a href=\"#cite_note-spaceflightnow_Clark_Launch_Report-19\">[13]</a></sup>\n",
      "</td>\n",
      "<td><a href=\"/wiki/Falcon_9_v1.0\" title=\"Falcon 9 v1.0\">F9 v1.0</a><sup class=\"reference\" id=\"cite_ref-MuskMay2012_13-1\"><a href=\"#cite_note-MuskMay2012-13\">[7]</a></sup><br/>B0004.1<sup class=\"reference\" id=\"cite_ref-block_numbers_14-1\"><a href=\"#cite_note-block_numbers-14\">[8]</a></sup>\n",
      "</td>\n",
      "<td><a href=\"/wiki/Cape_Canaveral_Space_Force_Station\" title=\"Cape Canaveral Space Force Station\">CCAFS</a>,<br/><a href=\"/wiki/Cape_Canaveral_Space_Launch_Complex_40\" title=\"Cape Canaveral Space Launch Complex 40\">SLC-40</a>\n",
      "</td>\n",
      "<td><a href=\"/wiki/SpaceX_Dragon\" title=\"SpaceX Dragon\">Dragon</a> <a class=\"mw-redirect\" href=\"/wiki/COTS_Demo_Flight_1\" title=\"COTS Demo Flight 1\">demo flight C1</a><br/>(Dragon C101)\n",
      "</td>\n",
      "<td>\n",
      "</td>\n",
      "<td><a href=\"/wiki/Low_Earth_orbit\" title=\"Low Earth orbit\">LEO</a> (<a href=\"/wiki/International_Space_Station\" title=\"International Space Station\">ISS</a>)\n",
      "</td>\n",
      "<td><style data-mw-deduplicate=\"TemplateStyles:r1126788409\">.mw-parser-output .plainlist ol,.mw-parser-output .plainlist ul{line-height:inherit;list-style:none;margin:0;padding:0}.mw-parser-output .plainlist ol li,.mw-parser-output .plainlist ul li{margin-bottom:0}</style><div class=\"plainlist\">\n",
      "<ul><li><a href=\"/wiki/NASA\" title=\"NASA\">NASA</a> (<a href=\"/wiki/Commercial_Orbital_Transportation_Services\" title=\"Commercial Orbital Transportation Services\">COTS</a>)</li>\n",
      "<li><a href=\"/wiki/National_Reconnaissance_Office\" title=\"National Reconnaissance Office\">NRO</a></li></ul>\n",
      "</div>\n",
      "</td>\n",
      "<td class=\"table-success\" style=\"background: #9EFF9E; vertical-align: middle; text-align: center;\">Success<sup class=\"reference\" id=\"cite_ref-ns20110930_15-1\"><a href=\"#cite_note-ns20110930-15\">[9]</a></sup>\n",
      "</td>\n",
      "<td class=\"table-failure\" style=\"background: #FFC7C7; vertical-align: middle; text-align: center;\">Failure<sup class=\"reference\" id=\"cite_ref-ns20110930_15-2\"><a href=\"#cite_note-ns20110930-15\">[9]</a></sup><sup class=\"reference\" id=\"cite_ref-20\"><a href=\"#cite_note-20\">[14]</a></sup><br/><small>(parachute)</small>\n",
      "</td></tr>\n",
      "<tr>\n",
      "<td colspan=\"9\">Maiden flight of <a class=\"mw-redirect\" href=\"/wiki/Dragon_capsule\" title=\"Dragon capsule\">Dragon capsule</a>, consisting of over 3 hours of testing thruster maneuvering and reentry.<sup class=\"reference\" id=\"cite_ref-spaceflightnow_Clark_unleashing_Dragon_21-0\"><a href=\"#cite_note-spaceflightnow_Clark_unleashing_Dragon-21\">[15]</a></sup> Attempted to recover the first stage by parachuting it into the ocean, but it disintegrated upon reentry, before the parachutes were deployed.<sup class=\"reference\" id=\"cite_ref-parachute_18-1\"><a href=\"#cite_note-parachute-18\">[12]</a></sup> <small>(<a href=\"#COTS_demo_missions\">more details below</a>)</small> It also included two <a href=\"/wiki/CubeSat\" title=\"CubeSat\">CubeSats</a>,<sup class=\"reference\" id=\"cite_ref-NRO_Taps_Boeing_for_Next_Batch_of_CubeSats_22-0\"><a href=\"#cite_note-NRO_Taps_Boeing_for_Next_Batch_of_CubeSats-22\">[16]</a></sup> and a wheel of <a href=\"/wiki/Brou%C3%A8re\" title=\"Brouère\">Brouère</a> cheese.\n",
      "</td></tr>\n",
      "<tr>\n",
      "<th rowspan=\"2\" scope=\"row\" style=\"text-align:center;\">3\n",
      "</th>\n",
      "<td>22 May 2012,<br/>07:44<sup class=\"reference\" id=\"cite_ref-BBC_new_era_23-0\"><a href=\"#cite_note-BBC_new_era-23\">[17]</a></sup>\n",
      "</td>\n",
      "<td><a href=\"/wiki/Falcon_9_v1.0\" title=\"Falcon 9 v1.0\">F9 v1.0</a><sup class=\"reference\" id=\"cite_ref-MuskMay2012_13-2\"><a href=\"#cite_note-MuskMay2012-13\">[7]</a></sup><br/>B0005.1<sup class=\"reference\" id=\"cite_ref-block_numbers_14-2\"><a href=\"#cite_note-block_numbers-14\">[8]</a></sup>\n",
      "</td>\n",
      "<td><a href=\"/wiki/Cape_Canaveral_Space_Force_Station\" title=\"Cape Canaveral Space Force Station\">CCAFS</a>,<br/><a href=\"/wiki/Cape_Canaveral_Space_Launch_Complex_40\" title=\"Cape Canaveral Space Launch Complex 40\">SLC-40</a>\n",
      "</td>\n",
      "<td><a href=\"/wiki/SpaceX_Dragon\" title=\"SpaceX Dragon\">Dragon</a> <a class=\"mw-redirect\" href=\"/wiki/Dragon_C2%2B\" title=\"Dragon C2+\">demo flight C2+</a><sup class=\"reference\" id=\"cite_ref-C2_24-0\"><a href=\"#cite_note-C2-24\">[18]</a></sup><br/>(Dragon C102)\n",
      "</td>\n",
      "<td>525 kg (1,157 lb)<sup class=\"reference\" id=\"cite_ref-25\"><a href=\"#cite_note-25\">[19]</a></sup>\n",
      "</td>\n",
      "<td><a href=\"/wiki/Low_Earth_orbit\" title=\"Low Earth orbit\">LEO</a> (<a href=\"/wiki/International_Space_Station\" title=\"International Space Station\">ISS</a>)\n",
      "</td>\n",
      "<td><a href=\"/wiki/NASA\" title=\"NASA\">NASA</a> (<a href=\"/wiki/Commercial_Orbital_Transportation_Services\" title=\"Commercial Orbital Transportation Services\">COTS</a>)\n",
      "</td>\n",
      "<td class=\"table-success\" style=\"background: #9EFF9E; vertical-align: middle; text-align: center;\">Success<sup class=\"reference\" id=\"cite_ref-26\"><a href=\"#cite_note-26\">[20]</a></sup>\n",
      "</td>\n",
      "<td class=\"table-noAttempt\" style=\"background: #EEE; vertical-align: middle; white-space: nowrap; text-align: center;\">No attempt\n",
      "</td></tr>\n",
      "<tr>\n",
      "<td colspan=\"9\">Dragon spacecraft demonstrated a series of tests before it was allowed to approach the <a href=\"/wiki/International_Space_Station\" title=\"International Space Station\">International Space Station</a>. Two days later, it became the first commercial spacecraft to board the ISS.<sup class=\"reference\" id=\"cite_ref-BBC_new_era_23-1\"><a href=\"#cite_note-BBC_new_era-23\">[17]</a></sup> <small>(<a href=\"#COTS_demo_missions\">more details below</a>)</small>\n",
      "</td></tr>\n",
      "<tr>\n",
      "<th rowspan=\"3\" scope=\"row\" style=\"text-align:center;\">4\n",
      "</th>\n",
      "<td rowspan=\"2\">8 October 2012,<br/>00:35<sup class=\"reference\" id=\"cite_ref-SFN_LLog_27-0\"><a href=\"#cite_note-SFN_LLog-27\">[21]</a></sup>\n",
      "</td>\n",
      "<td rowspan=\"2\"><a href=\"/wiki/Falcon_9_v1.0\" title=\"Falcon 9 v1.0\">F9 v1.0</a><sup class=\"reference\" id=\"cite_ref-MuskMay2012_13-3\"><a href=\"#cite_note-MuskMay2012-13\">[7]</a></sup><br/>B0006.1<sup class=\"reference\" id=\"cite_ref-block_numbers_14-3\"><a href=\"#cite_note-block_numbers-14\">[8]</a></sup>\n",
      "</td>\n",
      "<td rowspan=\"2\"><a href=\"/wiki/Cape_Canaveral_Space_Force_Station\" title=\"Cape Canaveral Space Force Station\">CCAFS</a>,<br/><a href=\"/wiki/Cape_Canaveral_Space_Launch_Complex_40\" title=\"Cape Canaveral Space Launch Complex 40\">SLC-40</a>\n",
      "</td>\n",
      "<td><a href=\"/wiki/SpaceX_CRS-1\" title=\"SpaceX CRS-1\">SpaceX CRS-1</a><sup class=\"reference\" id=\"cite_ref-sxManifest20120925_28-0\"><a href=\"#cite_note-sxManifest20120925-28\">[22]</a></sup><br/>(Dragon C103)\n",
      "</td>\n",
      "<td>4,700 kg (10,400 lb)\n",
      "</td>\n",
      "<td><a href=\"/wiki/Low_Earth_orbit\" title=\"Low Earth orbit\">LEO</a> (<a href=\"/wiki/International_Space_Station\" title=\"International Space Station\">ISS</a>)\n",
      "</td>\n",
      "<td><a href=\"/wiki/NASA\" title=\"NASA\">NASA</a> (<a href=\"/wiki/Commercial_Resupply_Services\" title=\"Commercial Resupply Services\">CRS</a>)\n",
      "</td>\n",
      "<td class=\"table-success\" style=\"background: #9EFF9E; vertical-align: middle; text-align: center;\">Success\n",
      "</td>\n",
      "<td rowspan=\"2\" style=\"background:#ececec; text-align:center;\"><span class=\"nowrap\">No attempt</span>\n",
      "</td></tr>\n",
      "<tr>\n",
      "<td><a href=\"/wiki/Orbcomm_(satellite)\" title=\"Orbcomm (satellite)\">Orbcomm-OG2</a><sup class=\"reference\" id=\"cite_ref-Orbcomm_29-0\"><a href=\"#cite_note-Orbcomm-29\">[23]</a></sup>\n",
      "</td>\n",
      "<td>172 kg (379 lb)<sup class=\"reference\" id=\"cite_ref-gunter-og2_30-0\"><a href=\"#cite_note-gunter-og2-30\">[24]</a></sup>\n",
      "</td>\n",
      "<td><a href=\"/wiki/Low_Earth_orbit\" title=\"Low Earth orbit\">LEO</a>\n",
      "</td>\n",
      "<td><a href=\"/wiki/Orbcomm\" title=\"Orbcomm\">Orbcomm</a>\n",
      "</td>\n",
      "<td class=\"table-partial\" style=\"background: #FE9; vertical-align: middle; text-align: center;\">Partial failure<sup class=\"reference\" id=\"cite_ref-nyt-20121030_31-0\"><a href=\"#cite_note-nyt-20121030-31\">[25]</a></sup>\n",
      "</td></tr>\n",
      "<tr>\n",
      "<td colspan=\"9\">CRS-1 was successful, but the <a href=\"/wiki/Secondary_payload\" title=\"Secondary payload\">secondary payload</a> was inserted into an abnormally low orbit and subsequently lost. This was due to one of the nine <a href=\"/wiki/SpaceX_Merlin\" title=\"SpaceX Merlin\">Merlin engines</a> shutting down during the launch, and NASA declining a second reignition, as per <a href=\"/wiki/International_Space_Station\" title=\"International Space Station\">ISS</a> visiting vehicle safety rules, the primary payload owner is contractually allowed to decline a second reignition. NASA stated that this was because SpaceX could not guarantee a high enough likelihood of the second stage completing the second burn successfully which was required to avoid any risk of secondary payload's collision with the ISS.<sup class=\"reference\" id=\"cite_ref-OrbcommTotalLoss_32-0\"><a href=\"#cite_note-OrbcommTotalLoss-32\">[26]</a></sup><sup class=\"reference\" id=\"cite_ref-sn20121011_33-0\"><a href=\"#cite_note-sn20121011-33\">[27]</a></sup><sup class=\"reference\" id=\"cite_ref-34\"><a href=\"#cite_note-34\">[28]</a></sup>\n",
      "</td></tr>\n",
      "<tr>\n",
      "<th rowspan=\"2\" scope=\"row\" style=\"text-align:center;\">5\n",
      "</th>\n",
      "<td>1 March 2013,<br/>15:10\n",
      "</td>\n",
      "<td><a href=\"/wiki/Falcon_9_v1.0\" title=\"Falcon 9 v1.0\">F9 v1.0</a><sup class=\"reference\" id=\"cite_ref-MuskMay2012_13-4\"><a href=\"#cite_note-MuskMay2012-13\">[7]</a></sup><br/>B0007.1<sup class=\"reference\" id=\"cite_ref-block_numbers_14-4\"><a href=\"#cite_note-block_numbers-14\">[8]</a></sup>\n",
      "</td>\n",
      "<td><a href=\"/wiki/Cape_Canaveral_Space_Force_Station\" title=\"Cape Canaveral Space Force Station\">CCAFS</a>,<br/><a href=\"/wiki/Cape_Canaveral_Space_Launch_Complex_40\" title=\"Cape Canaveral Space Launch Complex 40\">SLC-40</a>\n",
      "</td>\n",
      "<td><a href=\"/wiki/SpaceX_CRS-2\" title=\"SpaceX CRS-2\">SpaceX CRS-2</a><sup class=\"reference\" id=\"cite_ref-sxManifest20120925_28-1\"><a href=\"#cite_note-sxManifest20120925-28\">[22]</a></sup><br/>(Dragon C104)\n",
      "</td>\n",
      "<td>4,877 kg (10,752 lb)\n",
      "</td>\n",
      "<td><a href=\"/wiki/Low_Earth_orbit\" title=\"Low Earth orbit\">LEO</a> (<a class=\"mw-redirect\" href=\"/wiki/ISS\" title=\"ISS\">ISS</a>)\n",
      "</td>\n",
      "<td><a href=\"/wiki/NASA\" title=\"NASA\">NASA</a> (<a href=\"/wiki/Commercial_Resupply_Services\" title=\"Commercial Resupply Services\">CRS</a>)\n",
      "</td>\n",
      "<td class=\"table-success\" style=\"background: #9EFF9E; vertical-align: middle; text-align: center;\">Success\n",
      "</td>\n",
      "<td class=\"table-noAttempt\" style=\"background: #EEE; vertical-align: middle; white-space: nowrap; text-align: center;\">No attempt\n",
      "</td></tr>\n",
      "<tr>\n",
      "<td colspan=\"9\">Last launch of the original Falcon 9 v1.0 <a href=\"/wiki/Launch_vehicle\" title=\"Launch vehicle\">launch vehicle</a>, first use of the unpressurized trunk section of Dragon.<sup class=\"reference\" id=\"cite_ref-sxf9_20110321_35-0\"><a href=\"#cite_note-sxf9_20110321-35\">[29]</a></sup>\n",
      "</td></tr>\n",
      "<tr>\n",
      "<th rowspan=\"2\" scope=\"row\" style=\"text-align:center;\">6\n",
      "</th>\n",
      "<td>29 September 2013,<br/>16:00<sup class=\"reference\" id=\"cite_ref-pa20130930_36-0\"><a href=\"#cite_note-pa20130930-36\">[30]</a></sup>\n",
      "</td>\n",
      "<td><a href=\"/wiki/Falcon_9_v1.1\" title=\"Falcon 9 v1.1\">F9 v1.1</a><sup class=\"reference\" id=\"cite_ref-MuskMay2012_13-5\"><a href=\"#cite_note-MuskMay2012-13\">[7]</a></sup><br/>B1003<sup class=\"reference\" id=\"cite_ref-block_numbers_14-5\"><a href=\"#cite_note-block_numbers-14\">[8]</a></sup>\n",
      "</td>\n",
      "<td><a class=\"mw-redirect\" href=\"/wiki/Vandenberg_Air_Force_Base\" title=\"Vandenberg Air Force Base\">VAFB</a>,<br/><a href=\"/wiki/Vandenberg_Space_Launch_Complex_4\" title=\"Vandenberg Space Launch Complex 4\">SLC-4E</a>\n",
      "</td>\n",
      "<td><a href=\"/wiki/CASSIOPE\" title=\"CASSIOPE\">CASSIOPE</a><sup class=\"reference\" id=\"cite_ref-sxManifest20120925_28-2\"><a href=\"#cite_note-sxManifest20120925-28\">[22]</a></sup><sup class=\"reference\" id=\"cite_ref-CASSIOPE_MDA_37-0\"><a href=\"#cite_note-CASSIOPE_MDA-37\">[31]</a></sup>\n",
      "</td>\n",
      "<td>500 kg (1,100 lb)\n",
      "</td>\n",
      "<td><a href=\"/wiki/Polar_orbit\" title=\"Polar orbit\">Polar orbit</a> <a href=\"/wiki/Low_Earth_orbit\" title=\"Low Earth orbit\">LEO</a>\n",
      "</td>\n",
      "<td><a href=\"/wiki/Maxar_Technologies\" title=\"Maxar Technologies\">MDA</a>\n",
      "</td>\n",
      "<td class=\"table-success\" style=\"background: #9EFF9E; vertical-align: middle; text-align: center;\">Success<sup class=\"reference\" id=\"cite_ref-pa20130930_36-1\"><a href=\"#cite_note-pa20130930-36\">[30]</a></sup>\n",
      "</td>\n",
      "<td class=\"table-no2\" style=\"background: #FFE3E3; color: black; vertical-align: middle; text-align: center;\">Uncontrolled<br/><small>(ocean)</small><sup class=\"reference\" id=\"cite_ref-ocean_landing_38-0\"><a href=\"#cite_note-ocean_landing-38\">[d]</a></sup>\n",
      "</td></tr>\n",
      "<tr>\n",
      "<td colspan=\"9\">First commercial mission with a private customer, first launch from Vandenberg, and demonstration flight of Falcon 9 v1.1 with an improved 13-tonne to LEO capacity.<sup class=\"reference\" id=\"cite_ref-sxf9_20110321_35-1\"><a href=\"#cite_note-sxf9_20110321-35\">[29]</a></sup> After separation from the second stage carrying Canadian commercial and scientific satellites, the first stage booster performed a controlled reentry,<sup class=\"reference\" id=\"cite_ref-39\"><a href=\"#cite_note-39\">[32]</a></sup> and an <a href=\"/wiki/Falcon_9_first-stage_landing_tests\" title=\"Falcon 9 first-stage landing tests\">ocean touchdown test</a> for the first time. This provided good test data, even though the booster started rolling as it neared the ocean, leading to the shutdown of the central engine as the roll depleted it of fuel, resulting in a hard impact with the ocean.<sup class=\"reference\" id=\"cite_ref-pa20130930_36-2\"><a href=\"#cite_note-pa20130930-36\">[30]</a></sup> This was the first known attempt of a rocket engine being lit to perform a supersonic retro propulsion, and allowed SpaceX to enter a public-private partnership with <a href=\"/wiki/NASA\" title=\"NASA\">NASA</a> and its Mars entry, descent, and landing technologies research projects.<sup class=\"reference\" id=\"cite_ref-40\"><a href=\"#cite_note-40\">[33]</a></sup> <small>(<a href=\"#Maiden_flight_of_v1.1\">more details below</a>)</small>\n",
      "</td></tr>\n",
      "<tr>\n",
      "<th rowspan=\"2\" scope=\"row\" style=\"text-align:center;\">7\n",
      "</th>\n",
      "<td>3 December 2013,<br/>22:41<sup class=\"reference\" id=\"cite_ref-sfn_wwls20130624_41-0\"><a href=\"#cite_note-sfn_wwls20130624-41\">[34]</a></sup>\n",
      "</td>\n",
      "<td><a href=\"/wiki/Falcon_9_v1.1\" title=\"Falcon 9 v1.1\">F9 v1.1</a><br/>B1004\n",
      "</td>\n",
      "<td><a href=\"/wiki/Cape_Canaveral_Space_Force_Station\" title=\"Cape Canaveral Space Force Station\">CCAFS</a>,<br/><a href=\"/wiki/Cape_Canaveral_Space_Launch_Complex_40\" title=\"Cape Canaveral Space Launch Complex 40\">SLC-40</a>\n",
      "</td>\n",
      "<td><a href=\"/wiki/SES-8\" title=\"SES-8\">SES-8</a><sup class=\"reference\" id=\"cite_ref-sxManifest20120925_28-3\"><a href=\"#cite_note-sxManifest20120925-28\">[22]</a></sup><sup class=\"reference\" id=\"cite_ref-spx-pr_42-0\"><a href=\"#cite_note-spx-pr-42\">[35]</a></sup><sup class=\"reference\" id=\"cite_ref-aw20110323_43-0\"><a href=\"#cite_note-aw20110323-43\">[36]</a></sup>\n",
      "</td>\n",
      "<td>3,170 kg (6,990 lb)\n",
      "</td>\n",
      "<td><a href=\"/wiki/Geostationary_transfer_orbit\" title=\"Geostationary transfer orbit\">GTO</a>\n",
      "</td>\n",
      "<td><a href=\"/wiki/SES_S.A.\" title=\"SES S.A.\">SES</a>\n",
      "</td>\n",
      "<td class=\"table-success\" style=\"background: #9EFF9E; vertical-align: middle; text-align: center;\">Success<sup class=\"reference\" id=\"cite_ref-SNMissionStatus7_44-0\"><a href=\"#cite_note-SNMissionStatus7-44\">[37]</a></sup>\n",
      "</td>\n",
      "<td class=\"table-noAttempt\" style=\"background: #EEE; vertical-align: middle; white-space: nowrap; text-align: center;\">No attempt<br/><sup class=\"reference\" id=\"cite_ref-sf10120131203_45-0\"><a href=\"#cite_note-sf10120131203-45\">[38]</a></sup>\n",
      "</td></tr>\n",
      "<tr>\n",
      "<td colspan=\"9\">First <a href=\"/wiki/Geostationary_transfer_orbit\" title=\"Geostationary transfer orbit\">Geostationary transfer orbit</a> (GTO) launch for Falcon 9,<sup class=\"reference\" id=\"cite_ref-spx-pr_42-1\"><a href=\"#cite_note-spx-pr-42\">[35]</a></sup> and first successful reignition of the second stage.<sup class=\"reference\" id=\"cite_ref-46\"><a href=\"#cite_note-46\">[39]</a></sup> SES-8 was inserted into a <a href=\"/wiki/Geostationary_transfer_orbit\" title=\"Geostationary transfer orbit\">Super-Synchronous Transfer Orbit</a> of 79,341 km (49,300 mi) in apogee with an <a href=\"/wiki/Orbital_inclination\" title=\"Orbital inclination\">inclination</a> of 20.55° to the <a href=\"/wiki/Equator\" title=\"Equator\">equator</a>.\n",
      "</td></tr></tbody></table>\n"
     ]
    }
   ],
   "source": [
    "first_launch_table = html_tables[2]\n",
    "print(first_launch_table)"
   ]
  },
  {
   "cell_type": "markdown",
   "id": "7f039dc8-4c22-434d-872c-47f7dc0c6ada",
   "metadata": {},
   "source": [
    "Next, we just need to iterate through the <th> elements and apply the provided extract_column_from_header() to extract column name one by one"
   ]
  },
  {
   "cell_type": "code",
   "execution_count": 10,
   "id": "c2f584a6-ca9b-4242-a8ca-f6c2d15c908f",
   "metadata": {
    "tags": []
   },
   "outputs": [],
   "source": [
    "column_names = [] \n",
    "for row in first_launch_table.find_all('th'):\n",
    "    name = extract_column_from_header(row)\n",
    "    if (name != None and len(name) > 0):\n",
    "        column_names.append(name)"
   ]
  },
  {
   "cell_type": "code",
   "execution_count": 11,
   "id": "9636590b-3dbd-4432-871b-ed141c3e6d46",
   "metadata": {
    "tags": []
   },
   "outputs": [
    {
     "name": "stdout",
     "output_type": "stream",
     "text": [
      "['Flight No.', 'Date and time ( )', 'Launch site', 'Payload', 'Payload mass', 'Orbit', 'Customer', 'Launch outcome']\n"
     ]
    }
   ],
   "source": [
    "print(column_names)"
   ]
  },
  {
   "cell_type": "markdown",
   "id": "f1b1ea7c-3269-43f6-bf79-275378557f4b",
   "metadata": {},
   "source": [
    "### TASK 3: Create a data frame by parsing the launch HTML tables\n",
    "We will generate an empty dictionary with keys from the extracted column names in the previous task. Later, this dictionary will be converted into a Pandas dataframe"
   ]
  },
  {
   "cell_type": "code",
   "execution_count": 12,
   "id": "ce8bb514-39bb-4261-86e2-a95fc6f35df6",
   "metadata": {
    "tags": []
   },
   "outputs": [],
   "source": [
    "launch_dict= dict.fromkeys(column_names)\n",
    "\n",
    "# Remove an irrelvant column\n",
    "del launch_dict['Date and time ( )']\n",
    "\n",
    "# Let's initial the launch_dict with each value to be an empty list\n",
    "launch_dict['Flight No.'] = []\n",
    "launch_dict['Launch site'] = []\n",
    "launch_dict['Payload'] = []\n",
    "launch_dict['Payload mass'] = []\n",
    "launch_dict['Orbit'] = []\n",
    "launch_dict['Customer'] = []\n",
    "launch_dict['Launch outcome'] = []\n",
    "# Added some new columns\n",
    "launch_dict['Version Booster']=[]\n",
    "launch_dict['Booster landing']=[]\n",
    "launch_dict['Date']=[]\n",
    "launch_dict['Time']=[]"
   ]
  },
  {
   "cell_type": "markdown",
   "id": "f6a59146-4435-40a1-b5d2-79f7d2589a8d",
   "metadata": {},
   "source": [
    "Next, we just need to fill up the `launch_dict` with launch records extracted from table rows.\n",
    "\n",
    "Usually, HTML tables in Wiki pages are likely to contain unexpected annotations and other types of noises, such as reference links `B0004.1[8]`, missing values `N/A [e]`, inconsistent formatting, etc."
   ]
  },
  {
   "cell_type": "code",
   "execution_count": 17,
   "id": "54d6198a-eb4d-41c2-a93b-25d0e26ae3e8",
   "metadata": {
    "tags": []
   },
   "outputs": [],
   "source": [
    "extracted_row = 0\n",
    "#Extract each table \n",
    "for table_number,table in enumerate(soup.find_all('table',\"wikitable plainrowheaders collapsible\")):\n",
    "   # get table row \n",
    "    for rows in table.find_all(\"tr\"):\n",
    "        #check to see if first table heading is as number corresponding to launch a number \n",
    "        if rows.th:\n",
    "            if rows.th.string:\n",
    "                flight_number=rows.th.string.strip()\n",
    "                flag=flight_number.isdigit()\n",
    "        else:\n",
    "            flag=False\n",
    "        #get table element \n",
    "        row=rows.find_all('td')\n",
    "        #if it is number save cells in a dictonary \n",
    "        if flag:\n",
    "            extracted_row += 1\n",
    "            # Flight Number value\n",
    "            launch_dict['Flight No.'].append(flight_number)\n",
    "            #print(flight_number)\n",
    "            datatimelist=date_time(row[0])\n",
    "            \n",
    "            # Date value\n",
    "            date = datatimelist[0].strip(',')\n",
    "            launch_dict['Date'].append(date)\n",
    "            #print(date)\n",
    "            \n",
    "            # Time value\n",
    "            time = datatimelist[1]\n",
    "            launch_dict['Time'].append(time)\n",
    "            #print(time)\n",
    "              \n",
    "            # Booster version\n",
    "            bv=booster_version(row[1])\n",
    "            if not(bv):\n",
    "                bv=row[1].a.string\n",
    "            launch_dict['Version Booster'].append(bv)\n",
    "            #print(bv)\n",
    "            \n",
    "            # Launch Site\n",
    "            launch_site = row[2].a.string\n",
    "            launch_dict['Launch site'].append(launch_site)\n",
    "            #print(launch_site)\n",
    "            \n",
    "            # Payload\n",
    "            payload = row[3].a.string\n",
    "            launch_dict['Payload'].append(payload)\n",
    "            #print(payload)\n",
    "            \n",
    "            # Payload Mass\n",
    "            payload_mass = get_mass(row[4])\n",
    "            launch_dict['Payload mass'].append(payload_mass)\n",
    "            #print(payload)\n",
    "            \n",
    "            # Orbit\n",
    "            orbit = row[5].a.string\n",
    "            launch_dict['Orbit'].append(orbit)\n",
    "            #print(orbit)\n",
    "            \n",
    "            # Customer\n",
    "            customer = row[6]\n",
    "            launch_dict['Customer'].append(customer)\n",
    "            #print(customer)\n",
    "            \n",
    "            # Launch outcome\n",
    "            launch_outcome = list(row[7].strings)[0]\n",
    "            launch_dict['Launch outcome'].append(launch_outcome)\n",
    "            #print(launch_outcome)\n",
    "            \n",
    "            # Booster landing\n",
    "            booster_landing = landing_status(row[8])\n",
    "            launch_dict['Booster landing'].append(booster_landing)\n",
    "            #print(booster_landing)"
   ]
  },
  {
   "cell_type": "markdown",
   "id": "aa4c4ac5-6ace-4865-8508-2f5a3c016840",
   "metadata": {},
   "source": [
    "After you have fill in the parsed launch record values into `launch_dict`, you can convert it to a dataframe."
   ]
  },
  {
   "cell_type": "code",
   "execution_count": 18,
   "id": "1d288b6d-c98b-43de-afef-f914694c39f7",
   "metadata": {
    "tags": []
   },
   "outputs": [],
   "source": [
    "df= pd.DataFrame({ key:pd.Series(value) for key, value in launch_dict.items() })"
   ]
  },
  {
   "cell_type": "code",
   "execution_count": 19,
   "id": "237737b0-8726-4c55-8685-8d3bc19a7b9b",
   "metadata": {
    "tags": []
   },
   "outputs": [
    {
     "data": {
      "text/html": [
       "<div>\n",
       "<style scoped>\n",
       "    .dataframe tbody tr th:only-of-type {\n",
       "        vertical-align: middle;\n",
       "    }\n",
       "\n",
       "    .dataframe tbody tr th {\n",
       "        vertical-align: top;\n",
       "    }\n",
       "\n",
       "    .dataframe thead th {\n",
       "        text-align: right;\n",
       "    }\n",
       "</style>\n",
       "<table border=\"1\" class=\"dataframe\">\n",
       "  <thead>\n",
       "    <tr style=\"text-align: right;\">\n",
       "      <th></th>\n",
       "      <th>Flight No.</th>\n",
       "      <th>Launch site</th>\n",
       "      <th>Payload</th>\n",
       "      <th>Payload mass</th>\n",
       "      <th>Orbit</th>\n",
       "      <th>Customer</th>\n",
       "      <th>Launch outcome</th>\n",
       "      <th>Version Booster</th>\n",
       "      <th>Booster landing</th>\n",
       "      <th>Date</th>\n",
       "      <th>Time</th>\n",
       "    </tr>\n",
       "  </thead>\n",
       "  <tbody>\n",
       "    <tr>\n",
       "      <th>0</th>\n",
       "      <td>1</td>\n",
       "      <td>CCAFS</td>\n",
       "      <td>Dragon Spacecraft Qualification Unit</td>\n",
       "      <td>0</td>\n",
       "      <td>LEO</td>\n",
       "      <td>SpaceX</td>\n",
       "      <td>Success\\n</td>\n",
       "      <td>F9 v1.0B0003.1</td>\n",
       "      <td>Failure</td>\n",
       "      <td>4 June 2010</td>\n",
       "      <td>18:45</td>\n",
       "    </tr>\n",
       "    <tr>\n",
       "      <th>1</th>\n",
       "      <td>1</td>\n",
       "      <td>CCAFS</td>\n",
       "      <td>Dragon Spacecraft Qualification Unit</td>\n",
       "      <td>0</td>\n",
       "      <td>LEO</td>\n",
       "      <td>SpaceX</td>\n",
       "      <td>Success\\n</td>\n",
       "      <td>F9 v1.0B0003.1</td>\n",
       "      <td>Failure</td>\n",
       "      <td>4 June 2010</td>\n",
       "      <td>18:45</td>\n",
       "    </tr>\n",
       "    <tr>\n",
       "      <th>2</th>\n",
       "      <td>1</td>\n",
       "      <td>CCAFS</td>\n",
       "      <td>Dragon</td>\n",
       "      <td>0</td>\n",
       "      <td>LEO</td>\n",
       "      <td>NASA</td>\n",
       "      <td>Success</td>\n",
       "      <td>F9 v1.0B0003.1</td>\n",
       "      <td>No attempt\\n</td>\n",
       "      <td>4 June 2010</td>\n",
       "      <td>18:45</td>\n",
       "    </tr>\n",
       "    <tr>\n",
       "      <th>3</th>\n",
       "      <td>2</td>\n",
       "      <td>CCAFS</td>\n",
       "      <td>Dragon</td>\n",
       "      <td>525 kg</td>\n",
       "      <td>LEO</td>\n",
       "      <td>NASA</td>\n",
       "      <td>Success</td>\n",
       "      <td>F9 v1.0B0004.1</td>\n",
       "      <td>No attempt</td>\n",
       "      <td>8 December 2010</td>\n",
       "      <td>15:43</td>\n",
       "    </tr>\n",
       "    <tr>\n",
       "      <th>4</th>\n",
       "      <td>3</td>\n",
       "      <td>CCAFS</td>\n",
       "      <td>SpaceX CRS-1</td>\n",
       "      <td>4,700 kg</td>\n",
       "      <td>LEO</td>\n",
       "      <td>NASA</td>\n",
       "      <td>Success\\n</td>\n",
       "      <td>F9 v1.0B0005.1</td>\n",
       "      <td>No attempt\\n</td>\n",
       "      <td>22 May 2012</td>\n",
       "      <td>07:44</td>\n",
       "    </tr>\n",
       "    <tr>\n",
       "      <th>...</th>\n",
       "      <td>...</td>\n",
       "      <td>...</td>\n",
       "      <td>...</td>\n",
       "      <td>...</td>\n",
       "      <td>...</td>\n",
       "      <td>...</td>\n",
       "      <td>...</td>\n",
       "      <td>...</td>\n",
       "      <td>...</td>\n",
       "      <td>...</td>\n",
       "      <td>...</td>\n",
       "    </tr>\n",
       "    <tr>\n",
       "      <th>225</th>\n",
       "      <td>117</td>\n",
       "      <td>KSC</td>\n",
       "      <td>Starlink</td>\n",
       "      <td>~14,000 kg</td>\n",
       "      <td>LEO</td>\n",
       "      <td>[[NASA],  (, [CRS], )\\n]</td>\n",
       "      <td>Success\\n</td>\n",
       "      <td>F9 B5B1051.10</td>\n",
       "      <td>Success</td>\n",
       "      <td>9 May 2021</td>\n",
       "      <td>06:42</td>\n",
       "    </tr>\n",
       "    <tr>\n",
       "      <th>226</th>\n",
       "      <td>118</td>\n",
       "      <td>CCSFS</td>\n",
       "      <td>Starlink</td>\n",
       "      <td>15,600 kg</td>\n",
       "      <td>LEO</td>\n",
       "      <td>[[Sirius XM], \\n]</td>\n",
       "      <td>Success\\n</td>\n",
       "      <td>F9 B5B1058.8</td>\n",
       "      <td>NaN</td>\n",
       "      <td>15 May 2021</td>\n",
       "      <td>22:56</td>\n",
       "    </tr>\n",
       "    <tr>\n",
       "      <th>227</th>\n",
       "      <td>119</td>\n",
       "      <td>KSC</td>\n",
       "      <td>SpaceX CRS-22</td>\n",
       "      <td>3,328 kg</td>\n",
       "      <td>LEO</td>\n",
       "      <td>NaN</td>\n",
       "      <td>NaN</td>\n",
       "      <td>F9 B5B1063.2</td>\n",
       "      <td>NaN</td>\n",
       "      <td>26 May 2021</td>\n",
       "      <td>18:59</td>\n",
       "    </tr>\n",
       "    <tr>\n",
       "      <th>228</th>\n",
       "      <td>120</td>\n",
       "      <td>CCSFS</td>\n",
       "      <td>SXM-8</td>\n",
       "      <td>7,000 kg</td>\n",
       "      <td>GTO</td>\n",
       "      <td>NaN</td>\n",
       "      <td>NaN</td>\n",
       "      <td>F9 B5B1067.1</td>\n",
       "      <td>NaN</td>\n",
       "      <td>3 June 2021</td>\n",
       "      <td>17:29</td>\n",
       "    </tr>\n",
       "    <tr>\n",
       "      <th>229</th>\n",
       "      <td>121</td>\n",
       "      <td>NaN</td>\n",
       "      <td>NaN</td>\n",
       "      <td>NaN</td>\n",
       "      <td>NaN</td>\n",
       "      <td>NaN</td>\n",
       "      <td>NaN</td>\n",
       "      <td>F9 B5</td>\n",
       "      <td>NaN</td>\n",
       "      <td>6 June 2021</td>\n",
       "      <td>04:26</td>\n",
       "    </tr>\n",
       "  </tbody>\n",
       "</table>\n",
       "<p>230 rows × 11 columns</p>\n",
       "</div>"
      ],
      "text/plain": [
       "    Flight No. Launch site                               Payload Payload mass  \\\n",
       "0            1       CCAFS  Dragon Spacecraft Qualification Unit            0   \n",
       "1            1       CCAFS  Dragon Spacecraft Qualification Unit            0   \n",
       "2            1       CCAFS                                Dragon            0   \n",
       "3            2       CCAFS                                Dragon       525 kg   \n",
       "4            3       CCAFS                          SpaceX CRS-1     4,700 kg   \n",
       "..         ...         ...                                   ...          ...   \n",
       "225        117         KSC                              Starlink   ~14,000 kg   \n",
       "226        118       CCSFS                              Starlink    15,600 kg   \n",
       "227        119         KSC                         SpaceX CRS-22     3,328 kg   \n",
       "228        120       CCSFS                                 SXM-8     7,000 kg   \n",
       "229        121         NaN                                   NaN          NaN   \n",
       "\n",
       "    Orbit                  Customer Launch outcome Version Booster  \\\n",
       "0     LEO                    SpaceX      Success\\n  F9 v1.0B0003.1   \n",
       "1     LEO                    SpaceX      Success\\n  F9 v1.0B0003.1   \n",
       "2     LEO                      NASA        Success  F9 v1.0B0003.1   \n",
       "3     LEO                      NASA        Success  F9 v1.0B0004.1   \n",
       "4     LEO                      NASA      Success\\n  F9 v1.0B0005.1   \n",
       "..    ...                       ...            ...             ...   \n",
       "225   LEO  [[NASA],  (, [CRS], )\\n]      Success\\n   F9 B5B1051.10   \n",
       "226   LEO         [[Sirius XM], \\n]      Success\\n    F9 B5B1058.8   \n",
       "227   LEO                       NaN            NaN    F9 B5B1063.2   \n",
       "228   GTO                       NaN            NaN    F9 B5B1067.1   \n",
       "229   NaN                       NaN            NaN           F9 B5   \n",
       "\n",
       "    Booster landing             Date   Time  \n",
       "0           Failure      4 June 2010  18:45  \n",
       "1           Failure      4 June 2010  18:45  \n",
       "2      No attempt\\n      4 June 2010  18:45  \n",
       "3        No attempt  8 December 2010  15:43  \n",
       "4      No attempt\\n      22 May 2012  07:44  \n",
       "..              ...              ...    ...  \n",
       "225         Success       9 May 2021  06:42  \n",
       "226             NaN      15 May 2021  22:56  \n",
       "227             NaN      26 May 2021  18:59  \n",
       "228             NaN      3 June 2021  17:29  \n",
       "229             NaN      6 June 2021  04:26  \n",
       "\n",
       "[230 rows x 11 columns]"
      ]
     },
     "execution_count": 19,
     "metadata": {},
     "output_type": "execute_result"
    }
   ],
   "source": [
    "df"
   ]
  },
  {
   "cell_type": "code",
   "execution_count": 20,
   "id": "0f7e8f5a-1a80-46ed-a093-e62135bc4106",
   "metadata": {
    "tags": []
   },
   "outputs": [],
   "source": [
    "df.to_csv('spacex_web_scraped.csv', index=False)"
   ]
  },
  {
   "cell_type": "code",
   "execution_count": null,
   "id": "f04d07a5-68ff-4c9a-9ea4-b6167f11b596",
   "metadata": {},
   "outputs": [],
   "source": []
  }
 ],
 "metadata": {
  "kernelspec": {
   "display_name": "Python",
   "language": "python",
   "name": "conda-env-python-py"
  },
  "language_info": {
   "codemirror_mode": {
    "name": "ipython",
    "version": 3
   },
   "file_extension": ".py",
   "mimetype": "text/x-python",
   "name": "python",
   "nbconvert_exporter": "python",
   "pygments_lexer": "ipython3",
   "version": "3.7.12"
  }
 },
 "nbformat": 4,
 "nbformat_minor": 5
}
